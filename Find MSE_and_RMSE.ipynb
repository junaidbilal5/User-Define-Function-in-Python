{
 "cells": [
  {
   "cell_type": "markdown",
   "metadata": {},
   "source": [
    "# Mean square error (MSE)  and Root mean square(RMSE)\n",
    "here  i used two functions one for calculating mean squared error (MSE) and the other one take square root of the values coming from the first function as a input to calculate root mean square error(RMSE)"
   ]
  },
  {
   "cell_type": "code",
   "execution_count": 3,
   "metadata": {
    "id": "vFpjai9S3Arj"
   },
   "outputs": [],
   "source": [
    "actual_price=[7775.0,10595.0,6669.0,25552.0,35056.0]\n",
    "predicted_price =[8552.0,10244.2,6589.6,23493.6,23357.2]\n"
   ]
  },
  {
   "cell_type": "markdown",
   "metadata": {},
   "source": [
    "# using user define function to calculate MSE\n"
   ]
  },
  {
   "cell_type": "code",
   "execution_count": 4,
   "metadata": {
    "colab": {
     "base_uri": "https://localhost:8080/"
    },
    "id": "faDtyszV3E55",
    "outputId": "a164ba12-8ad3-49a0-efb7-fb51b16a22ce"
   },
   "outputs": [
    {
     "name": "stdout",
     "output_type": "stream",
     "text": [
      "mean squared error MSE:: 28366405.2\n"
     ]
    }
   ],
   "source": [
    "def meanSquareError(actual, predicted):\n",
    "\tsum_error = 0.0\n",
    "\tfor i in range(len(actual)):\n",
    "\t\tprediction_error = predicted[i] - actual[i]\n",
    "\t\tsum_error += (prediction_error ** 2)\n",
    "\tmean_square_error = sum_error / float(len(actual))\n",
    "\treturn mean_square_error\n",
    "mse=meanSquareError(actual_price,predicted_price)\n",
    "\n",
    "print(f'mean squared error MSE:: {mse}')"
   ]
  },
  {
   "cell_type": "markdown",
   "metadata": {
    "id": "40g5--YM3MBf"
   },
   "source": [
    "## Calculate RMSE taking root of MSE"
   ]
  },
  {
   "cell_type": "code",
   "execution_count": 5,
   "metadata": {
    "colab": {
     "base_uri": "https://localhost:8080/"
    },
    "id": "vFHPsF5L3HA6",
    "outputId": "893f28cb-bf2d-4fe6-8f97-4dfc2904e517"
   },
   "outputs": [
    {
     "name": "stdout",
     "output_type": "stream",
     "text": [
      "Root mean squared error MSE:: 5326.012129163808\n"
     ]
    }
   ],
   "source": [
    "def root_mean_square_error(mse):\n",
    "  e=mse**(1/2)\n",
    "  return e\n",
    "RMSE=root_mean_square_error(mse)\n",
    "print(f'Root mean squared error MSE:: {RMSE}')"
   ]
  },
  {
   "cell_type": "markdown",
   "metadata": {},
   "source": [
    "# Using buillt in function to calculate **RMSE**"
   ]
  },
  {
   "cell_type": "code",
   "execution_count": 6,
   "metadata": {
    "colab": {
     "base_uri": "https://localhost:8080/"
    },
    "id": "od2FtjSL3fpC",
    "outputId": "8bb94946-b6bb-4684-f18e-ed6b332b87db"
   },
   "outputs": [
    {
     "name": "stdout",
     "output_type": "stream",
     "text": [
      "Collecting ml_metrics\n",
      "  Downloading ml_metrics-0.1.4.tar.gz (5.0 kB)\n",
      "Requirement already satisfied: numpy in c:\\users\\bilal\\anaconda3\\lib\\site-packages (from ml_metrics) (1.20.1)\n",
      "Requirement already satisfied: pandas in c:\\users\\bilal\\anaconda3\\lib\\site-packages (from ml_metrics) (1.2.4)\n",
      "Requirement already satisfied: python-dateutil>=2.7.3 in c:\\users\\bilal\\anaconda3\\lib\\site-packages (from pandas->ml_metrics) (2.8.1)\n",
      "Requirement already satisfied: pytz>=2017.3 in c:\\users\\bilal\\anaconda3\\lib\\site-packages (from pandas->ml_metrics) (2021.1)\n",
      "Requirement already satisfied: six>=1.5 in c:\\users\\bilal\\anaconda3\\lib\\site-packages (from python-dateutil>=2.7.3->pandas->ml_metrics) (1.15.0)\n",
      "Building wheels for collected packages: ml-metrics\n",
      "  Building wheel for ml-metrics (setup.py): started\n",
      "  Building wheel for ml-metrics (setup.py): finished with status 'done'\n",
      "  Created wheel for ml-metrics: filename=ml_metrics-0.1.4-py3-none-any.whl size=7848 sha256=49cf22470eebe7a63aaf37c2dc7cfc2d8e4ec1327791f0343a632db0ab2915c5\n",
      "  Stored in directory: c:\\users\\bilal\\appdata\\local\\pip\\cache\\wheels\\09\\2d\\e7\\58a96e635aedc543a3a78ff855dc9911d98fc1640e3921c823\n",
      "Successfully built ml-metrics\n",
      "Installing collected packages: ml-metrics\n",
      "Successfully installed ml-metrics-0.1.4\n"
     ]
    }
   ],
   "source": [
    "!pip install ml_metrics"
   ]
  },
  {
   "cell_type": "code",
   "execution_count": 7,
   "metadata": {
    "id": "mh-tfcLZ3Vsx"
   },
   "outputs": [],
   "source": [
    "from ml_metrics import rmse,mse\n",
    "root_mse=rmse(actual_price, predicted_price)\n",
    "mse_builtin=mse(actual_price,predicted_price)"
   ]
  },
  {
   "cell_type": "code",
   "execution_count": 8,
   "metadata": {
    "colab": {
     "base_uri": "https://localhost:8080/"
    },
    "id": "26pnKVYz3drF",
    "outputId": "8441c40b-f781-4660-b500-290f4ce33aca"
   },
   "outputs": [
    {
     "data": {
      "text/plain": [
       "28366405.2"
      ]
     },
     "execution_count": 8,
     "metadata": {},
     "output_type": "execute_result"
    }
   ],
   "source": [
    "mse_builtin"
   ]
  },
  {
   "cell_type": "code",
   "execution_count": 9,
   "metadata": {
    "colab": {
     "base_uri": "https://localhost:8080/"
    },
    "id": "gphCGd4r3lf9",
    "outputId": "a7f151bf-baf4-42ca-a656-09fc1992734b"
   },
   "outputs": [
    {
     "data": {
      "text/plain": [
       "5326.012129163808"
      ]
     },
     "execution_count": 9,
     "metadata": {},
     "output_type": "execute_result"
    }
   ],
   "source": [
    "root_mse"
   ]
  },
  {
   "cell_type": "code",
   "execution_count": null,
   "metadata": {
    "id": "M1Fd4RTD3l4N"
   },
   "outputs": [],
   "source": []
  }
 ],
 "metadata": {
  "colab": {
   "collapsed_sections": [],
   "name": "MSE_and_RMSE.ipynb",
   "provenance": []
  },
  "kernelspec": {
   "display_name": "Python 3",
   "language": "python",
   "name": "python3"
  },
  "language_info": {
   "codemirror_mode": {
    "name": "ipython",
    "version": 3
   },
   "file_extension": ".py",
   "mimetype": "text/x-python",
   "name": "python",
   "nbconvert_exporter": "python",
   "pygments_lexer": "ipython3",
   "version": "3.8.8"
  }
 },
 "nbformat": 4,
 "nbformat_minor": 1
}
