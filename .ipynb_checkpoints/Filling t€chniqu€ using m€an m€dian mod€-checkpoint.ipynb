{
 "cells": [
  {
   "cell_type": "code",
   "execution_count": 1,
   "metadata": {
    "id": "S5CMhCAk4gKl"
   },
   "outputs": [],
   "source": [
    "import numpy as np\n",
    "#import for the creating th€ nan €l€m€nts in th€ list"
   ]
  },
  {
   "cell_type": "code",
   "execution_count": 2,
   "metadata": {
    "id": "ljrPv74j46JD"
   },
   "outputs": [],
   "source": [
    "l1=[5,6,7,8,np.nan,8,7,8,9,np.nan]"
   ]
  },
  {
   "cell_type": "code",
   "execution_count": 3,
   "metadata": {
    "colab": {
     "base_uri": "https://localhost:8080/"
    },
    "id": "Pt_CiNap5L6u",
    "outputId": "7c539a8a-722c-4306-b882-ac1a24259c2a",
    "scrolled": true
   },
   "outputs": [
    {
     "data": {
      "text/plain": [
       "[5, 6, 7, 8, nan, 8, 7, 8, 9, nan]"
      ]
     },
     "execution_count": 3,
     "metadata": {},
     "output_type": "execute_result"
    }
   ],
   "source": [
    "l1"
   ]
  },
  {
   "cell_type": "markdown",
   "metadata": {},
   "source": [
    "# Apply m€an t€chinuqu€ "
   ]
  },
  {
   "cell_type": "code",
   "execution_count": 4,
   "metadata": {
    "id": "HMJwW4Z_5NN8"
   },
   "outputs": [],
   "source": [
    "empt=[]\n",
    "def mean(lst):\n",
    "  sum=0\n",
    "\n",
    "  mylist = [str(x) for x in lst]\n",
    "  newlist = [x for x in mylist if x != 'nan']\n",
    "  for i in newlist:\n",
    "    i=int(i)\n",
    "    sum+=i\n",
    "  avg=sum/len(newlist)\n",
    "  mylist = [float(x) for x in mylist]\n",
    "  for i in mylist:\n",
    "    if i==float(i):\n",
    "      empt.append(i)\n",
    "    else:\n",
    "      empt.append(avg)\n",
    "  return empt\n",
    "\n"
   ]
  },
  {
   "cell_type": "code",
   "execution_count": 5,
   "metadata": {
    "colab": {
     "base_uri": "https://localhost:8080/"
    },
    "id": "GwPxIPaT_cJn",
    "outputId": "0f85e6f2-25ae-40e4-f91f-959f9db66307",
    "scrolled": true
   },
   "outputs": [
    {
     "data": {
      "text/plain": [
       "[5.0, 6.0, 7.0, 8.0, 7.25, 8.0, 7.0, 8.0, 9.0, 7.25]"
      ]
     },
     "execution_count": 5,
     "metadata": {},
     "output_type": "execute_result"
    }
   ],
   "source": [
    "mean(l1)"
   ]
  },
  {
   "cell_type": "markdown",
   "metadata": {},
   "source": [
    "# Apply m€dian t€chinuq€"
   ]
  },
  {
   "cell_type": "code",
   "execution_count": 6,
   "metadata": {
    "colab": {
     "base_uri": "https://localhost:8080/"
    },
    "id": "OmlStNxd8upp",
    "outputId": "11d2f500-bfb0-499d-bdf7-7b702e5c10e1"
   },
   "outputs": [
    {
     "name": "stdout",
     "output_type": "stream",
     "text": [
      "calc_median(r)[1.0, 2.0, 3.0, 5, 2.0, 3.0, 4.0, 5.0, 6.0, 6.0, 7.0, 9.0, 9.0, 5, 5]\n"
     ]
    }
   ],
   "source": [
    "r = [1, 2, 3, np.nan,2,9,3,7,6,9,np.nan,6,4, 5,np.nan]\n",
    "e=[]\n",
    "def calc_median(l1):\n",
    "  e.clear()\n",
    "  n = len(l1)\n",
    "  l1.sort() \n",
    "\n",
    "  \n",
    "  my_list = [str(x) for x in l1]\n",
    "  new_list = [x for x in my_list if x != 'nan']\n",
    "  for i in new_list:\n",
    "    i=int(i)\n",
    "    if n % 2 == 0:\n",
    "      median1 = l1[n//2]\n",
    "      median2 = l1[n//2 - 1]\n",
    "      median = (median1 + median2)/2\n",
    "    else:\n",
    "      median = l1[n//2]\n",
    "  my_list = [float(x) for x in my_list]\n",
    "  for i in my_list:\n",
    "      if i==float(i):\n",
    "        e.append(i)\n",
    "      else:\n",
    "        e.append(median)\n",
    "  return e\n",
    "  \n",
    "    \n",
    "  \n",
    "print(f'calc_median(r){calc_median(r)}')\n"
   ]
  },
  {
   "cell_type": "markdown",
   "metadata": {},
   "source": [
    "# Apply mod€ t€cniuqu€"
   ]
  },
  {
   "cell_type": "code",
   "execution_count": 7,
   "metadata": {
    "colab": {
     "base_uri": "https://localhost:8080/"
    },
    "id": "PeqJOthAOj33",
    "outputId": "ee569235-8818-4fec-bc6a-18b9313beb3c"
   },
   "outputs": [
    {
     "data": {
      "text/plain": [
       "['1', '2', '3', '6', '9', '9', '9', '7', '6', '9', '6', '4', '5']"
      ]
     },
     "execution_count": 7,
     "metadata": {},
     "output_type": "execute_result"
    }
   ],
   "source": [
    "m = [1, 2, 3, np.nan,6,9,9,9,7,6,9,np.nan,6,4, 5,np.nan]\n",
    "mode_list = [str(x) for x in m]\n",
    "new_list = [x for x in mode_list if x != 'nan']\n",
    "new_list"
   ]
  },
  {
   "cell_type": "code",
   "execution_count": 8,
   "metadata": {
    "colab": {
     "base_uri": "https://localhost:8080/"
    },
    "id": "PR5H35CWqylv",
    "outputId": "292b8d09-8c2f-4ed9-d723-99a3c79ab2c2"
   },
   "outputs": [
    {
     "name": "stdout",
     "output_type": "stream",
     "text": [
      "Mode(s) is/are :{'9'}\n"
     ]
    }
   ],
   "source": [
    "# The list for which you need to find\n",
    "# the Mode\n",
    "new_list\n",
    "# First you sort it\n",
    "# You will get numbers arranged from 3 to\n",
    "# 11 in asc order\n",
    "new_list.sort()\n",
    "\n",
    "L1=[]\n",
    "\n",
    "\n",
    "i = 0\n",
    "while i < len(new_list) :\n",
    "\tL1.append(new_list.count(new_list[i]))\n",
    "\ti += 1\n",
    "\n",
    "d1 = dict(zip(new_list, L1))\n",
    "\n",
    "d2={k for (k,v) in d1.items() if v == max(L1) }\n",
    "\n",
    "print(\"Mode(s) is/are :\" + str(d2))\n"
   ]
  },
  {
   "cell_type": "code",
   "execution_count": 9,
   "metadata": {
    "colab": {
     "base_uri": "https://localhost:8080/"
    },
    "id": "17F_zxXFun5d",
    "outputId": "5a6691a4-a4e8-4137-8562-b03250a5b205"
   },
   "outputs": [
    {
     "data": {
      "text/plain": [
       "[1.0,\n",
       " 2.0,\n",
       " 3.0,\n",
       " {'9'},\n",
       " 6.0,\n",
       " 9.0,\n",
       " 9.0,\n",
       " 9.0,\n",
       " 7.0,\n",
       " 6.0,\n",
       " 9.0,\n",
       " {'9'},\n",
       " 6.0,\n",
       " 4.0,\n",
       " 5.0,\n",
       " {'9'}]"
      ]
     },
     "execution_count": 9,
     "metadata": {},
     "output_type": "execute_result"
    }
   ],
   "source": [
    "empty_mode=[]\n",
    "m_list = [float(x) for x in m]\n",
    "for i in m_list:\n",
    "   if i==float(i):\n",
    "      empty_mode.append(i)\n",
    "   else:\n",
    "      empty_mode.append(d2)\n",
    "\n",
    "empty_mode"
   ]
  }
 ],
 "metadata": {
  "colab": {
   "collapsed_sections": [],
   "name": "Mean Mode Median (filling techniques).ipynb",
   "provenance": []
  },
  "kernelspec": {
   "display_name": "Python 3",
   "language": "python",
   "name": "python3"
  },
  "language_info": {
   "codemirror_mode": {
    "name": "ipython",
    "version": 3
   },
   "file_extension": ".py",
   "mimetype": "text/x-python",
   "name": "python",
   "nbconvert_exporter": "python",
   "pygments_lexer": "ipython3",
   "version": "3.8.8"
  }
 },
 "nbformat": 4,
 "nbformat_minor": 1
}
