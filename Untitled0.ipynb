{
  "nbformat": 4,
  "nbformat_minor": 0,
  "metadata": {
    "colab": {
      "name": "Untitled0.ipynb",
      "provenance": []
    },
    "kernelspec": {
      "name": "python3",
      "display_name": "Python 3"
    },
    "language_info": {
      "name": "python"
    }
  },
  "cells": [
    {
      "cell_type": "markdown",
      "metadata": {
        "id": "yj3TW3V2jEPl"
      },
      "source": [
        "#Spareman formula"
      ]
    },
    {
      "cell_type": "code",
      "metadata": {
        "colab": {
          "base_uri": "https://localhost:8080/"
        },
        "id": "3T0mCkkcLUnj",
        "outputId": "c1804723-5602-4fbc-ad05-dd6ae820f201"
      },
      "source": [
        "a=[1,2,3,4,5]\n",
        "b=[5,6,7,8,7]\n",
        "\n",
        "# using lambda func to calculate rank\n",
        "\n",
        "rank = lambda arr: list(map(lambda i: sorted(arr).index(i)+1, arr))\n",
        "ranked_list_a=rank(a)\n",
        "ranked_list_b=rank(b)\n",
        "print(f'ranked A:{ranked_list_a}')\n",
        "print(f'ranked A:{ranked_list_b}')\n",
        "\n",
        "d=[]\n",
        "\n",
        "zip_object = zip(ranked_list_a, ranked_list_b)\n",
        "for list1_i, list2_i in zip_object:\n",
        "    d.append(list2_i-list1_i)\n",
        "print(f'difference d:: {d}')\n",
        "d_square = [d ** 2 for d in d]\n",
        "print(f'd square::{d_square}')\n",
        "sum_of_d_sq=sum(d_square)\n",
        "print(f'sum of d square::{sum_of_d_sq}')\n",
        "\n",
        "\n",
        "n=len(ranked_list_b)\n",
        "print(f'n:{n}')\n",
        "n_Square=n*n\n",
        "print(f'N_Square:{n_Square}')\n",
        "\n",
        "\n",
        "form_part=(6*5)\n",
        "part2=5*(25-1)\n",
        "formula=1-(form_part/part2)\n",
        "print(f'spareman correlation  {formula}')\n",
        "\n",
        "\n",
        "\n"
      ],
      "execution_count": null,
      "outputs": [
        {
          "output_type": "stream",
          "name": "stdout",
          "text": [
            "ranked A:[1, 2, 3, 4, 5]\n",
            "ranked A:[1, 2, 3, 5, 3]\n",
            "difference d:: [0, 0, 0, 1, -2]\n",
            "d square::[0, 0, 0, 1, 4]\n",
            "sum of d square::5\n",
            "n:5\n",
            "N_Square:25\n",
            "spareman correlation  0.75\n"
          ]
        }
      ]
    },
    {
      "cell_type": "markdown",
      "metadata": {
        "id": "ZTpt9doIjnde"
      },
      "source": [
        "#Mean Mode Median"
      ]
    },
    {
      "cell_type": "code",
      "metadata": {
        "id": "WSXK6F_YjTWi"
      },
      "source": [
        "import numpy as np\n",
        "l1=[5,6,7,8,np.nan,8,7,8,9,np.nan]\n",
        "empt=[]"
      ],
      "execution_count": null,
      "outputs": []
    },
    {
      "cell_type": "markdown",
      "metadata": {
        "id": "oq-zy6NJjKg_"
      },
      "source": [
        "##MEAN"
      ]
    },
    {
      "cell_type": "code",
      "metadata": {
        "colab": {
          "base_uri": "https://localhost:8080/"
        },
        "id": "MiTKx-yuLVYY",
        "outputId": "bce2e9a9-e9e3-4786-89f1-4a06ae012588"
      },
      "source": [
        "\n",
        "def mean(lst):\n",
        "  sum=0\n",
        "\n",
        "  mylist = [str(x) for x in lst]\n",
        "  newlist = [x for x in mylist if x != 'nan']\n",
        "  for i in newlist:\n",
        "    i=int(i)\n",
        "    sum+=i\n",
        "  avg=sum/len(newlist)\n",
        "  mylist = [float(x) for x in mylist]\n",
        "  for i in mylist:\n",
        "    if i==float(i):\n",
        "      empt.append(i)\n",
        "    else:\n",
        "      empt.append(avg)\n",
        "  return empt\n",
        "\n",
        "mean(l1)"
      ],
      "execution_count": null,
      "outputs": [
        {
          "output_type": "execute_result",
          "data": {
            "text/plain": [
              "[5.0, 6.0, 7.0, 8.0, 7.25, 8.0, 7.0, 8.0, 9.0, 7.25]"
            ]
          },
          "metadata": {},
          "execution_count": 21
        }
      ]
    },
    {
      "cell_type": "markdown",
      "metadata": {
        "id": "WWgbZFvFjiV4"
      },
      "source": [
        "##Filling missing values using Median"
      ]
    },
    {
      "cell_type": "code",
      "metadata": {
        "id": "hkwoDnFSLjDP",
        "colab": {
          "base_uri": "https://localhost:8080/"
        },
        "outputId": "e1fd922a-fcc7-4b0f-a3d6-429d7be1b2a2"
      },
      "source": [
        "r = [1, 2, 3, np.nan,2,9,3,7,6,9,np.nan,6,4, 5,np.nan]\n",
        "e=[]\n",
        "def calc_median(l1):\n",
        "  e.clear()\n",
        "  n = len(l1)\n",
        "  l1.sort() \n",
        "\n",
        "  \n",
        "  my_list = [str(x) for x in l1]\n",
        "  new_list = [x for x in my_list if x != 'nan']\n",
        "  for i in new_list:\n",
        "    i=int(i)\n",
        "    if n % 2 == 0:\n",
        "      median1 = l1[n//2]\n",
        "      median2 = l1[n//2 - 1]\n",
        "      median = (median1 + median2)/2\n",
        "    else:\n",
        "      median = l1[n//2]\n",
        "  my_list = [float(x) for x in my_list]\n",
        "  for i in my_list:\n",
        "      if i==float(i):\n",
        "        e.append(i)\n",
        "      else:\n",
        "        e.append(median)\n",
        "  return e\n",
        "  \n",
        "    \n",
        "  \n",
        "print(f'calc_median(r){calc_median(r)}')\n"
      ],
      "execution_count": null,
      "outputs": [
        {
          "output_type": "stream",
          "name": "stdout",
          "text": [
            "calc_median(r)[1.0, 2.0, 3.0, 5, 2.0, 3.0, 4.0, 5.0, 6.0, 6.0, 7.0, 9.0, 9.0, 5, 5]\n"
          ]
        }
      ]
    },
    {
      "cell_type": "markdown",
      "metadata": {
        "id": "Th7D2uUEjwG8"
      },
      "source": [
        "##Mode"
      ]
    },
    {
      "cell_type": "code",
      "metadata": {
        "colab": {
          "base_uri": "https://localhost:8080/"
        },
        "id": "VHpdPLOdjxLx",
        "outputId": "18ab481c-d7c1-4c1c-fe39-c096f10c7004"
      },
      "source": [
        "m = [1, 2, 3, np.nan,6,9,9,9,7,6,9,np.nan,6,4, 5,np.nan]\n",
        "mode_list = [str(x) for x in m]\n",
        "new_list = [x for x in mode_list if x != 'nan']\n",
        "new_list\n",
        "\n",
        "# The list for which you need to find\n",
        "# the Mode\n",
        "new_list\n",
        "# First you sort it\n",
        "# You will get numbers arranged from 3 to\n",
        "# 11 in asc order\n",
        "new_list.sort()\n",
        "\n",
        "L1=[]\n",
        "\n",
        "\n",
        "i = 0\n",
        "while i < len(new_list) :\n",
        "\tL1.append(new_list.count(new_list[i]))\n",
        "\ti += 1\n",
        "\n",
        "d1 = dict(zip(new_list, L1))\n",
        "\n",
        "d2={k for (k,v) in d1.items() if v == max(L1) }\n",
        "\n",
        "print(\"Mode(s) is/are :\" + str(d2))\n",
        "\n",
        "\n",
        "empty_mode=[]\n",
        "m_list = [float(x) for x in m]\n",
        "for i in m_list:\n",
        "   if i==float(i):\n",
        "      empty_mode.append(i)\n",
        "   else:\n",
        "      empty_mode.append(d2)\n",
        "\n",
        "empty_mode\n"
      ],
      "execution_count": null,
      "outputs": [
        {
          "output_type": "stream",
          "name": "stdout",
          "text": [
            "Mode(s) is/are :{'9'}\n"
          ]
        },
        {
          "output_type": "execute_result",
          "data": {
            "text/plain": [
              "[1.0,\n",
              " 2.0,\n",
              " 3.0,\n",
              " {'9'},\n",
              " 6.0,\n",
              " 9.0,\n",
              " 9.0,\n",
              " 9.0,\n",
              " 7.0,\n",
              " 6.0,\n",
              " 9.0,\n",
              " {'9'},\n",
              " 6.0,\n",
              " 4.0,\n",
              " 5.0,\n",
              " {'9'}]"
            ]
          },
          "metadata": {},
          "execution_count": 23
        }
      ]
    },
    {
      "cell_type": "markdown",
      "metadata": {
        "id": "Pd5cHWPnkD_h"
      },
      "source": [
        "#Mean square error (MSE)  Root mean square(RMSE)\n",
        "here  i used two functions one for calculating mean squared error (MSE) and the other one take square root of the values coming from the first function as a input to calculate root mean square error(RMSE)"
      ]
    },
    {
      "cell_type": "code",
      "metadata": {
        "id": "qM-DRxYakE3E"
      },
      "source": [
        "actual_price=[7775.0,10595.0,6669.0,25552.0,35056.0]\n",
        "predicted_price =[8552.0,10244.2,6589.6,23493.6,23357.2]\n"
      ],
      "execution_count": null,
      "outputs": []
    },
    {
      "cell_type": "markdown",
      "metadata": {
        "id": "ki-R9ETskJp-"
      },
      "source": [
        "##using user define function to calculate MSE\n",
        "\n",
        "---\n",
        "\n"
      ]
    },
    {
      "cell_type": "code",
      "metadata": {
        "colab": {
          "base_uri": "https://localhost:8080/"
        },
        "id": "z-Wo1M_ukKq8",
        "outputId": "447f9d91-4701-4b52-a8a8-87d21ef3eb30"
      },
      "source": [
        "def meanSquareError(actual, predicted):\n",
        "\tsum_error = 0.0\n",
        "\tfor i in range(len(actual)):\n",
        "\t\tprediction_error = predicted[i] - actual[i]\n",
        "\t\tsum_error += (prediction_error ** 2)\n",
        "\tmean_square_error = sum_error / float(len(actual))\n",
        "\treturn mean_square_error\n",
        "mse=meanSquareError(actual_price,predicted_price)\n",
        "\n",
        "print(f'mean squared error MSE:: {mse}')"
      ],
      "execution_count": null,
      "outputs": [
        {
          "output_type": "stream",
          "name": "stdout",
          "text": [
            "mean squared error MSE:: 28366405.2\n"
          ]
        }
      ]
    },
    {
      "cell_type": "markdown",
      "metadata": {
        "id": "bYGmacmCkPvG"
      },
      "source": [
        "## Calculate RMSE taking root of MSE"
      ]
    },
    {
      "cell_type": "code",
      "metadata": {
        "colab": {
          "base_uri": "https://localhost:8080/"
        },
        "id": "JDgqrxV4kQTc",
        "outputId": "c7e74377-f5f2-42ee-c931-a197f9625721"
      },
      "source": [
        "def root_mean_square_error(mse):\n",
        "  e=mse**(1/2)\n",
        "  return e\n",
        "RMSE=root_mean_square_error(mse)\n",
        "print(f'Root mean squared error MSE:: {RMSE}')"
      ],
      "execution_count": null,
      "outputs": [
        {
          "output_type": "stream",
          "name": "stdout",
          "text": [
            "Root mean squared error MSE:: 5326.012129163808\n"
          ]
        }
      ]
    },
    {
      "cell_type": "markdown",
      "metadata": {
        "id": "GXd38As0kVRq"
      },
      "source": [
        "##Using buillt in function to calculate **RMSE**"
      ]
    },
    {
      "cell_type": "code",
      "metadata": {
        "colab": {
          "base_uri": "https://localhost:8080/"
        },
        "id": "VRhfsB1-kSYy",
        "outputId": "d523aa84-6d61-4948-caca-ff0e81a26a80"
      },
      "source": [
        "!pip install ml_metrics"
      ],
      "execution_count": null,
      "outputs": [
        {
          "output_type": "stream",
          "name": "stdout",
          "text": [
            "Requirement already satisfied: ml_metrics in /usr/local/lib/python3.7/dist-packages (0.1.4)\n",
            "Requirement already satisfied: pandas in /usr/local/lib/python3.7/dist-packages (from ml_metrics) (1.1.5)\n",
            "Requirement already satisfied: numpy in /usr/local/lib/python3.7/dist-packages (from ml_metrics) (1.19.5)\n",
            "Requirement already satisfied: python-dateutil>=2.7.3 in /usr/local/lib/python3.7/dist-packages (from pandas->ml_metrics) (2.8.2)\n",
            "Requirement already satisfied: pytz>=2017.2 in /usr/local/lib/python3.7/dist-packages (from pandas->ml_metrics) (2018.9)\n",
            "Requirement already satisfied: six>=1.5 in /usr/local/lib/python3.7/dist-packages (from python-dateutil>=2.7.3->pandas->ml_metrics) (1.15.0)\n"
          ]
        }
      ]
    },
    {
      "cell_type": "code",
      "metadata": {
        "id": "Ipa0Mp5gkhvx"
      },
      "source": [
        "from ml_metrics import rmse,mse\n",
        "root_mse=rmse(actual_price, predicted_price)\n",
        "mse_builtin=mse(actual_price,predicted_price)"
      ],
      "execution_count": null,
      "outputs": []
    },
    {
      "cell_type": "code",
      "metadata": {
        "colab": {
          "base_uri": "https://localhost:8080/"
        },
        "id": "TKbr2nrykiLD",
        "outputId": "be991fb0-0a8b-4fac-d8ff-65ea2df8d4d5"
      },
      "source": [
        "mse_builtin"
      ],
      "execution_count": null,
      "outputs": [
        {
          "output_type": "execute_result",
          "data": {
            "text/plain": [
              "28366405.2"
            ]
          },
          "metadata": {},
          "execution_count": 29
        }
      ]
    },
    {
      "cell_type": "code",
      "metadata": {
        "colab": {
          "base_uri": "https://localhost:8080/"
        },
        "id": "9JCfUgjYkmMZ",
        "outputId": "4f6c7833-25c4-44ac-aff4-02e1212ebb31"
      },
      "source": [
        "root_mse"
      ],
      "execution_count": null,
      "outputs": [
        {
          "output_type": "execute_result",
          "data": {
            "text/plain": [
              "5326.012129163808"
            ]
          },
          "metadata": {},
          "execution_count": 30
        }
      ]
    },
    {
      "cell_type": "markdown",
      "metadata": {
        "id": "4Yj0mPYAk1Ux"
      },
      "source": [
        "#Pearson formula"
      ]
    },
    {
      "cell_type": "code",
      "metadata": {
        "colab": {
          "base_uri": "https://localhost:8080/"
        },
        "id": "vWJen5bjkvDB",
        "outputId": "8cd3cf72-49e2-4bec-e104-c265b1f21e11"
      },
      "source": [
        "x = [1, 2, 3, 4, 5, 6]\n",
        "y = [7, 8, 9, 16, 12, 11]\n",
        "\n",
        "\n",
        "\n",
        "## xy\n",
        "xy = []\n",
        "for num1, num2 in zip(x, y):\n",
        "    xy.append(num1 * num2)\n",
        "print(xy)\n",
        "\n",
        "\n",
        "def summation(series):\n",
        "    total = 0\n",
        "    for i in series:\n",
        "        total+=i\n",
        "    return total\n",
        "\n",
        "\n",
        "def square(series):\n",
        "  return [i ** 2 for i in series]\n",
        "\n",
        "\n",
        "x_square=square(x)\n",
        "y_square=square(y)\n",
        "\n",
        "\n",
        "x_sum=print(summation(x))\n",
        "y_sum=print(summation(y))\n",
        "\n",
        "\n",
        "print(f'x*y:::{summation(xy)}')\n",
        "\n",
        "\n",
        "print(f' x square summation  :: {summation(x_square)}')\n",
        "print(f' y square summation  :: {summation(y_square)}')\n",
        "\n",
        "\n",
        "mylist=[]\n",
        "\n",
        "def difference(series):\n",
        "    mylist.clear()\n",
        "    sum=0\n",
        "    \n",
        "    num=len(series)\n",
        "\n",
        "    for i in series:\n",
        "        sum+=i\n",
        "    avg=sum / num\n",
        "    for i in series:\n",
        "        r=i-avg\n",
        "        mylist.append(r)\n",
        "\n",
        "    return mylist\n",
        "li=[]\n",
        "def difference_y(series):\n",
        "    mylist.clear()\n",
        "    sum=0\n",
        "    \n",
        "    num=len(series)\n",
        "\n",
        "    for i in series:\n",
        "        sum+=i\n",
        "    avg=sum / num\n",
        "    for i in series:\n",
        "        r=i-avg\n",
        "        li.append(r)\n",
        "\n",
        "    return li\n",
        "y_b=difference_y(y)\n",
        "\n",
        "xBar=difference(x)\n",
        "xBar\n",
        "products = []\n",
        "\n",
        "\n",
        "for num1, num2 in zip(xBar, y_b):\n",
        "\tproducts.append(num1 * num2)\n",
        "formula_part1=summation(products)\n",
        "formula_part1\n",
        "\n",
        "x_minus_x_bar_whl_sq_sum=summation(square(difference(x)))\n",
        "y_minu_y_bar_whl_sq_sum=summation(square(difference(y)))\n",
        "print(type(x_minus_x_bar_whl_sq_sum))\n",
        "\n",
        "\n",
        "print(f'x_minus_x_bar whole square summatuion::{x_minus_x_bar_whl_sq_sum}')\n",
        "print(f'y_minu_y_bar whole square summatuion::{y_minu_y_bar_whl_sq_sum}')\n",
        "\n",
        "v =x_minus_x_bar_whl_sq_sum* y_minu_y_bar_whl_sq_sum"
      ],
      "execution_count": null,
      "outputs": [
        {
          "output_type": "stream",
          "name": "stdout",
          "text": [
            "[7, 16, 27, 64, 60, 66]\n",
            "21\n",
            "63\n",
            "x*y:::240\n",
            " x square summation  :: 91\n",
            " y square summation  :: 715\n",
            "<class 'float'>\n",
            "x_minus_x_bar whole square summatuion::17.5\n",
            "y_minu_y_bar whole square summatuion::53.5\n"
          ]
        }
      ]
    },
    {
      "cell_type": "code",
      "metadata": {
        "colab": {
          "base_uri": "https://localhost:8080/"
        },
        "id": "GPa73_OplJiv",
        "outputId": "e124b096-5ec2-4f5d-af9d-eacc12a96204"
      },
      "source": [
        "formula_part_2=v**(1/2)\n",
        "pearson_formula=formula_part1/formula_part_2\n",
        "pearson_formula"
      ],
      "execution_count": null,
      "outputs": [
        {
          "output_type": "execute_result",
          "data": {
            "text/plain": [
              "0.6372923363962354"
            ]
          },
          "metadata": {},
          "execution_count": 32
        }
      ]
    },
    {
      "cell_type": "markdown",
      "metadata": {
        "id": "ONO3muQwlTAB"
      },
      "source": [
        "##Pearson formula using pandas library"
      ]
    },
    {
      "cell_type": "code",
      "metadata": {
        "colab": {
          "base_uri": "https://localhost:8080/",
          "height": 111
        },
        "id": "1vHEgaEElUSO",
        "outputId": "a87fe7e6-db42-417d-848e-e9efcba287c8"
      },
      "source": [
        "import pandas as pd\n",
        "\n",
        "df=pd.DataFrame()\n",
        "df['x']=[1, 2, 3, 4, 5, 6]\n",
        "df['y']= [7, 8, 9, 16, 12, 11]\n",
        "df.corr(method='pearson')"
      ],
      "execution_count": null,
      "outputs": [
        {
          "output_type": "execute_result",
          "data": {
            "text/html": [
              "<div>\n",
              "<style scoped>\n",
              "    .dataframe tbody tr th:only-of-type {\n",
              "        vertical-align: middle;\n",
              "    }\n",
              "\n",
              "    .dataframe tbody tr th {\n",
              "        vertical-align: top;\n",
              "    }\n",
              "\n",
              "    .dataframe thead th {\n",
              "        text-align: right;\n",
              "    }\n",
              "</style>\n",
              "<table border=\"1\" class=\"dataframe\">\n",
              "  <thead>\n",
              "    <tr style=\"text-align: right;\">\n",
              "      <th></th>\n",
              "      <th>x</th>\n",
              "      <th>y</th>\n",
              "    </tr>\n",
              "  </thead>\n",
              "  <tbody>\n",
              "    <tr>\n",
              "      <th>x</th>\n",
              "      <td>1.000000</td>\n",
              "      <td>0.637292</td>\n",
              "    </tr>\n",
              "    <tr>\n",
              "      <th>y</th>\n",
              "      <td>0.637292</td>\n",
              "      <td>1.000000</td>\n",
              "    </tr>\n",
              "  </tbody>\n",
              "</table>\n",
              "</div>"
            ],
            "text/plain": [
              "          x         y\n",
              "x  1.000000  0.637292\n",
              "y  0.637292  1.000000"
            ]
          },
          "metadata": {},
          "execution_count": 33
        }
      ]
    }
  ]
}